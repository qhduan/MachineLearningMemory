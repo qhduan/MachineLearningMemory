{
 "cells": [
  {
   "cell_type": "markdown",
   "metadata": {},
   "source": [
    "# Convolution Neural Network in Tensorflow\n",
    "\n",
    "### author: qhduan@memect.co"
   ]
  },
  {
   "cell_type": "code",
   "execution_count": 1,
   "metadata": {
    "collapsed": true
   },
   "outputs": [],
   "source": [
    "import tempfile\n",
    "import tensorflow as tf"
   ]
  },
  {
   "cell_type": "code",
   "execution_count": 2,
   "metadata": {
    "collapsed": true
   },
   "outputs": [],
   "source": [
    "from tensorflow.examples.tutorials.mnist import input_data"
   ]
  },
  {
   "cell_type": "code",
   "execution_count": 3,
   "metadata": {
    "collapsed": false
   },
   "outputs": [
    {
     "name": "stdout",
     "output_type": "stream",
     "text": [
      "Successfully downloaded train-images-idx3-ubyte.gz 9912422 bytes.\n",
      "Extracting /tmp/train-images-idx3-ubyte.gz\n",
      "Successfully downloaded train-labels-idx1-ubyte.gz 28881 bytes.\n",
      "Extracting /tmp/train-labels-idx1-ubyte.gz\n",
      "Successfully downloaded t10k-images-idx3-ubyte.gz 1648877 bytes.\n",
      "Extracting /tmp/t10k-images-idx3-ubyte.gz\n",
      "Successfully downloaded t10k-labels-idx1-ubyte.gz 4542 bytes.\n",
      "Extracting /tmp/t10k-labels-idx1-ubyte.gz\n"
     ]
    }
   ],
   "source": [
    "# 需要下载\n",
    "# tempfile.gettempdir() 获取系统的临时目录，在linux下一般是 '/tmp'\n",
    "mnist = input_data.read_data_sets(tempfile.gettempdir(), one_hot=True)"
   ]
  },
  {
   "cell_type": "code",
   "execution_count": 4,
   "metadata": {
    "collapsed": false
   },
   "outputs": [
    {
     "name": "stdout",
     "output_type": "stream",
     "text": [
      "(55000, 784)\n"
     ]
    }
   ],
   "source": [
    "# 训练集，有55000条数据，每条数据784维（即784个变量，每条数据是28*28的字符方阵）\n",
    "print(mnist.train.images.shape)"
   ]
  },
  {
   "cell_type": "code",
   "execution_count": 5,
   "metadata": {
    "collapsed": false
   },
   "outputs": [
    {
     "name": "stdout",
     "output_type": "stream",
     "text": [
      "(55000, 10)\n"
     ]
    }
   ],
   "source": [
    "# 训练集标签，每个字符方阵代表0~9这10个数字\n",
    "# 采用one hot的表示方法，即0~9编码为10维数组，0对应的数组第0位为1，其他位为0\n",
    "# 1对应数字第1位为1，其他位为0，以此类推\n",
    "print(mnist.train.labels.shape)"
   ]
  },
  {
   "cell_type": "code",
   "execution_count": 6,
   "metadata": {
    "collapsed": false
   },
   "outputs": [
    {
     "name": "stdout",
     "output_type": "stream",
     "text": [
      "(5000, 784)\n",
      "(5000, 10)\n",
      "(10000, 784)\n",
      "(10000, 10)\n"
     ]
    }
   ],
   "source": [
    "# 验证集\n",
    "print(mnist.validation.images.shape)\n",
    "print(mnist.validation.labels.shape)\n",
    "# 测试集\n",
    "print(mnist.test.images.shape)\n",
    "print(mnist.test.labels.shape)"
   ]
  },
  {
   "cell_type": "code",
   "execution_count": 7,
   "metadata": {
    "collapsed": false
   },
   "outputs": [
    {
     "name": "stdout",
     "output_type": "stream",
     "text": [
      "----------------------------\n",
      "----------------------------\n",
      "----------------------------\n",
      "----------------------------\n",
      "----------------------------\n",
      "-------------*******--------\n",
      "-----------**********-------\n",
      "----------***********-------\n",
      "----------******--***-------\n",
      "---------********--***------\n",
      "----------**--***-****------\n",
      "--------------*******-------\n",
      "-----------**********-------\n",
      "-----------*********--------\n",
      "-----------********---------\n",
      "-----------*******----------\n",
      "--------------*****---------\n",
      "------*---------***---------\n",
      "-----***--------***---------\n",
      "----***--------****---------\n",
      "----***-------*****---------\n",
      "----*****--*******----------\n",
      "-----*************----------\n",
      "-----***********------------\n",
      "------********--------------\n",
      "----------------------------\n",
      "----------------------------\n",
      "----------------------------\n",
      "第 1 条数据表示的数字是： 3\n"
     ]
    }
   ],
   "source": [
    "# 其实输入数据保存的就是字符图像的抽象，例如下面训练集的第 1 条数据，保存的应该是数字 3\n",
    "index = 1\n",
    "a_char = mnist.train.images[index]\n",
    "a_char = a_char.reshape([28, 28])\n",
    "for i in range(28):\n",
    "    t = ['*' if x > 0 else '-' for x in a_char[i] > 0]\n",
    "    print(''.join(t))\n",
    "print('第 {} 条数据表示的数字是： {}'.format(index, mnist.train.labels[index].argmax()))"
   ]
  },
  {
   "cell_type": "code",
   "execution_count": 8,
   "metadata": {
    "collapsed": false
   },
   "outputs": [
    {
     "name": "stdout",
     "output_type": "stream",
     "text": [
      "----------------------------\n",
      "----------------------------\n",
      "----------------------------\n",
      "---------------****---------\n",
      "--------------*****---------\n",
      "-------------******---------\n",
      "------------******----------\n",
      "------------****------------\n",
      "-----------*****------------\n",
      "----------*****-------------\n",
      "----------****--------------\n",
      "----------***---------------\n",
      "---------****---------------\n",
      "---------***-------*--------\n",
      "---------***-----****-------\n",
      "--------****---******-------\n",
      "--------****--*******-------\n",
      "--------*************-------\n",
      "---------************-------\n",
      "---------***********--------\n",
      "----------********----------\n",
      "----------******------------\n",
      "----------***---------------\n",
      "----------------------------\n",
      "----------------------------\n",
      "----------------------------\n",
      "----------------------------\n",
      "----------------------------\n",
      "第 3 条数据表示的数字是： 6\n"
     ]
    }
   ],
   "source": [
    "# 其实输入数据保存的就是字符图像的抽象，例如下面训练集的第 3 条数据，保存的应该是数字 6\n",
    "index = 3\n",
    "a_char = mnist.train.images[index]\n",
    "a_char = a_char.reshape([28, 28])\n",
    "for i in range(28):\n",
    "    t = ['*' if x > 0 else '-' for x in a_char[i] > 0]\n",
    "    print(''.join(t))\n",
    "print('第 {} 条数据表示的数字是： {}'.format(index, mnist.train.labels[index].argmax()))"
   ]
  },
  {
   "cell_type": "code",
   "execution_count": 9,
   "metadata": {
    "collapsed": true
   },
   "outputs": [],
   "source": [
    "# 学习率\n",
    "learning_rate = 0.001\n",
    "# 迭代次数（批次）\n",
    "n_iter = 100000\n",
    "# 批次大小\n",
    "batch_size = 128"
   ]
  },
  {
   "cell_type": "code",
   "execution_count": 10,
   "metadata": {
    "collapsed": true
   },
   "outputs": [],
   "source": [
    "# 输入大小\n",
    "input_size = 784\n",
    "# 输出大小\n",
    "target_size = 10"
   ]
  },
  {
   "cell_type": "code",
   "execution_count": 11,
   "metadata": {
    "collapsed": false
   },
   "outputs": [],
   "source": [
    "# 输入占位符\n",
    "X = tf.placeholder(tf.float32, [None, input_size])\n",
    "# 输出占位符\n",
    "y = tf.placeholder(tf.float32, [None, target_size])"
   ]
  },
  {
   "cell_type": "code",
   "execution_count": 12,
   "metadata": {
    "collapsed": true
   },
   "outputs": [],
   "source": [
    "# 第一个卷积层\n",
    "pitch_1 = tf.Variable(tf.random_normal([5, 5, 1, 32]), name='pitch_1')\n",
    "pitch_1_bias = tf.Variable(tf.random_normal([32]), name='pitch_1_bias')\n",
    "\n",
    "# 第二个卷积层\n",
    "pitch_2 = tf.Variable(tf.random_normal([5, 5, 32, 64]), name='pitch_2')\n",
    "pitch_2_bias = tf.Variable(tf.random_normal([64]), name='pitch_2_bias')\n",
    "\n",
    "# 全连接层\n",
    "weight_1 = tf.Variable(tf.random_normal([7 * 7 * 64, 1024]), name='weight_1')\n",
    "bias_1 = tf.Variable(tf.random_normal([1024]), name='bias_1')\n",
    "\n",
    "# 输出层\n",
    "weight_2 = tf.Variable(tf.random_normal([1024, target_size]), name='weight_2')\n",
    "bias_2 = tf.Variable(tf.random_normal([target_size]), name='bias_2')"
   ]
  },
  {
   "cell_type": "code",
   "execution_count": 13,
   "metadata": {
    "collapsed": true
   },
   "outputs": [],
   "source": [
    "X_ = tf.reshape(X, shape=[-1, 28, 28, 1])"
   ]
  },
  {
   "cell_type": "code",
   "execution_count": 14,
   "metadata": {
    "collapsed": false
   },
   "outputs": [],
   "source": [
    "conv_1 = tf.nn.relu(\n",
    "    tf.nn.bias_add(\n",
    "        tf.nn.conv2d(\n",
    "            X_, pitch_1, strides=[1, 1, 1, 1], padding='SAME'\n",
    "        ),\n",
    "        pitch_1_bias,\n",
    "        name='bias_add_1'\n",
    "    ),\n",
    "    name='relu_1'\n",
    ")"
   ]
  },
  {
   "cell_type": "code",
   "execution_count": 15,
   "metadata": {
    "collapsed": true
   },
   "outputs": [],
   "source": [
    "maxpool_1 = tf.nn.max_pool(\n",
    "    conv_1,\n",
    "    ksize=[1, 2, 2, 1],\n",
    "    strides=[1, 2, 2, 1],\n",
    "    padding='SAME',\n",
    "    name='max_pool_1'\n",
    ")"
   ]
  },
  {
   "cell_type": "code",
   "execution_count": 16,
   "metadata": {
    "collapsed": true
   },
   "outputs": [],
   "source": [
    "conv_2 = tf.nn.relu(\n",
    "    tf.nn.bias_add(\n",
    "        tf.nn.conv2d(\n",
    "            maxpool_1, pitch_2, strides=[1, 1, 1, 1], padding='SAME'\n",
    "        ),\n",
    "        pitch_2_bias,\n",
    "        name='bias_add_2'\n",
    "    ),\n",
    "    name='relu_2'\n",
    ")"
   ]
  },
  {
   "cell_type": "code",
   "execution_count": 17,
   "metadata": {
    "collapsed": true
   },
   "outputs": [],
   "source": [
    "maxpool_2 = tf.nn.max_pool(\n",
    "    conv_2,\n",
    "    ksize=[1, 2, 2, 1],\n",
    "    strides=[1, 2, 2, 1],\n",
    "    padding='SAME',\n",
    "    name='max_pool_2'\n",
    ")"
   ]
  },
  {
   "cell_type": "code",
   "execution_count": 18,
   "metadata": {
    "collapsed": true
   },
   "outputs": [],
   "source": [
    "flatten = tf.reshape(maxpool_2, [-1, 7 *7 * 64])"
   ]
  },
  {
   "cell_type": "code",
   "execution_count": 19,
   "metadata": {
    "collapsed": false
   },
   "outputs": [],
   "source": [
    "full_connect_1 = tf.nn.relu(\n",
    "    tf.add(\n",
    "        tf.matmul(flatten, weight_1, name='matmul_1'),\n",
    "        bias_1,\n",
    "        name='add_1'\n",
    "    ),\n",
    "    name='relu_3'\n",
    ")"
   ]
  },
  {
   "cell_type": "code",
   "execution_count": 20,
   "metadata": {
    "collapsed": true
   },
   "outputs": [],
   "source": [
    "full_connect_2 = tf.add(\n",
    "    tf.matmul(full_connect_1, weight_2, name='matmul_2'),\n",
    "    bias_2,\n",
    "    name='add_2'\n",
    ")"
   ]
  },
  {
   "cell_type": "code",
   "execution_count": 21,
   "metadata": {
    "collapsed": true
   },
   "outputs": [],
   "source": [
    "pred = full_connect_2"
   ]
  },
  {
   "cell_type": "code",
   "execution_count": 22,
   "metadata": {
    "collapsed": true
   },
   "outputs": [],
   "source": [
    "cost = tf.reduce_mean(\n",
    "    tf.nn.softmax_cross_entropy_with_logits(\n",
    "        pred, y\n",
    "    )\n",
    ")"
   ]
  },
  {
   "cell_type": "code",
   "execution_count": 23,
   "metadata": {
    "collapsed": true
   },
   "outputs": [],
   "source": [
    "opt = tf.train.AdamOptimizer(learning_rate=learning_rate).minimize(cost)"
   ]
  },
  {
   "cell_type": "code",
   "execution_count": 24,
   "metadata": {
    "collapsed": true
   },
   "outputs": [],
   "source": [
    "correct_pred = tf.equal(tf.argmax(pred, 1), tf.argmax(y, 1))\n",
    "accuracy = tf.reduce_mean(tf.cast(correct_pred, tf.float32))"
   ]
  },
  {
   "cell_type": "code",
   "execution_count": 25,
   "metadata": {
    "collapsed": true
   },
   "outputs": [],
   "source": [
    "init = tf.initialize_all_variables()"
   ]
  },
  {
   "cell_type": "code",
   "execution_count": 26,
   "metadata": {
    "collapsed": false
   },
   "outputs": [
    {
     "name": "stdout",
     "output_type": "stream",
     "text": [
      "12800/100000, loss: 2108.4458, acc: 0.8359\n",
      "25600/100000, loss: 1438.3669, acc: 0.8203\n",
      "38400/100000, loss: 361.9883, acc: 0.9609\n",
      "51200/100000, loss: 604.2684, acc: 0.9375\n",
      "64000/100000, loss: 912.9480, acc: 0.9141\n",
      "76800/100000, loss: 373.8579, acc: 0.9609\n",
      "89600/100000, loss: 524.4198, acc: 0.9609\n",
      "calculate train accuracy\n",
      "calculate test accuracy\n",
      "Done\n"
     ]
    }
   ],
   "source": [
    "with tf.Session() as sess:\n",
    "    sess.run(init)\n",
    "    n_trained = 0\n",
    "    while n_trained < n_iter:\n",
    "        batch_x, batch_y = mnist.train.next_batch(batch_size)\n",
    "        sess.run(opt, feed_dict={X: batch_x, y: batch_y})\n",
    "        if n_trained > 0 and n_trained % (100 * batch_size) == 0:\n",
    "            loss, acc = sess.run([cost, accuracy], feed_dict={X: batch_x, y: batch_y})\n",
    "            print('{}/{}, loss: {:.4f}, acc: {:.4f}'.format(n_trained, n_iter, loss, acc))\n",
    "        n_trained += batch_size\n",
    "    print('calculate train accuracy')\n",
    "    train_acc = []\n",
    "    for _ in range(int(mnist.train.num_examples / batch_size)):\n",
    "        batch_x, batch_y = mnist.train.next_batch(batch_size)\n",
    "        train_acc.append(sess.run(accuracy, feed_dict={X: batch_x, y: batch_y}))\n",
    "    print('calculate test accuracy')\n",
    "    test_acc = []\n",
    "    for _ in range(int(mnist.test.num_examples / batch_size)):\n",
    "        batch_x, batch_y = mnist.test.next_batch(batch_size)\n",
    "        test_acc.append(sess.run(accuracy, feed_dict={X: batch_x, y: batch_y}))\n",
    "    print('Done')"
   ]
  },
  {
   "cell_type": "code",
   "execution_count": 27,
   "metadata": {
    "collapsed": false
   },
   "outputs": [
    {
     "name": "stdout",
     "output_type": "stream",
     "text": [
      "train accuracy: 0.955510635198\n"
     ]
    }
   ],
   "source": [
    "# 训练集准确率\n",
    "print('train accuracy:', sum(train_acc) / len(train_acc))"
   ]
  },
  {
   "cell_type": "code",
   "execution_count": 28,
   "metadata": {
    "collapsed": false
   },
   "outputs": [
    {
     "name": "stdout",
     "output_type": "stream",
     "text": [
      "train accuracy: 0.952824519231\n"
     ]
    }
   ],
   "source": [
    "# 测试集准确率\n",
    "print('train accuracy:', sum(test_acc) / len(test_acc))"
   ]
  },
  {
   "cell_type": "code",
   "execution_count": null,
   "metadata": {
    "collapsed": true
   },
   "outputs": [],
   "source": []
  }
 ],
 "metadata": {
  "kernelspec": {
   "display_name": "Python 3",
   "language": "python",
   "name": "python3"
  },
  "language_info": {
   "codemirror_mode": {
    "name": "ipython",
    "version": 3
   },
   "file_extension": ".py",
   "mimetype": "text/x-python",
   "name": "python",
   "nbconvert_exporter": "python",
   "pygments_lexer": "ipython3",
   "version": "3.5.2"
  }
 },
 "nbformat": 4,
 "nbformat_minor": 0
}
