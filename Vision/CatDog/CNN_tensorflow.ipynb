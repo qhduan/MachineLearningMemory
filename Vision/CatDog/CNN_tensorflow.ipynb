{
 "cells": [
  {
   "cell_type": "code",
   "execution_count": 1,
   "metadata": {
    "collapsed": true
   },
   "outputs": [],
   "source": [
    "import numpy as np\n",
    "from sklearn.metrics import accuracy_score, recall_score, f1_score\n",
    "from sklearn.preprocessing import Normalizer\n",
    "import tensorflow as tf\n",
    "from tqdm import tqdm"
   ]
  },
  {
   "cell_type": "code",
   "execution_count": 2,
   "metadata": {
    "collapsed": false
   },
   "outputs": [
    {
     "name": "stdout",
     "output_type": "stream",
     "text": [
      "0.12.0\n"
     ]
    }
   ],
   "source": [
    "print(tf.__version__)"
   ]
  },
  {
   "cell_type": "code",
   "execution_count": 3,
   "metadata": {
    "collapsed": true
   },
   "outputs": [],
   "source": [
    "from data import get_data"
   ]
  },
  {
   "cell_type": "code",
   "execution_count": 4,
   "metadata": {
    "collapsed": false
   },
   "outputs": [],
   "source": [
    "X_train, y_train, X_test, y_test = get_data(one_hot=True)"
   ]
  },
  {
   "cell_type": "code",
   "execution_count": 5,
   "metadata": {
    "collapsed": false
   },
   "outputs": [
    {
     "name": "stdout",
     "output_type": "stream",
     "text": [
      "115.481949803 65.2925375088\n"
     ]
    }
   ],
   "source": [
    "mean_of_train = np.mean(X_train)\n",
    "std_of_train = np.std(X_train)\n",
    "print(mean_of_train, std_of_train)"
   ]
  },
  {
   "cell_type": "code",
   "execution_count": 6,
   "metadata": {
    "collapsed": false
   },
   "outputs": [],
   "source": [
    "X_train = (X_train - mean_of_train) / std_of_train\n",
    "X_test = (X_test - mean_of_train) / std_of_train"
   ]
  },
  {
   "cell_type": "code",
   "execution_count": 7,
   "metadata": {
    "collapsed": false
   },
   "outputs": [
    {
     "name": "stdout",
     "output_type": "stream",
     "text": [
      "\n",
      "训练数据数量：20000\n",
      "高度:128\n",
      "宽度：128\n",
      "通道数：3\n",
      "测试数据数量：5000\n",
      "\n"
     ]
    }
   ],
   "source": [
    "train_len, width, height, channel = X_train.shape\n",
    "test_len = X_test.shape[0]\n",
    "print(\"\"\"\n",
    "训练数据数量：{}\n",
    "高度:{}\n",
    "宽度：{}\n",
    "通道数：{}\n",
    "测试数据数量：{}\n",
    "\"\"\".format(train_len, width, height, channel, test_len))"
   ]
  },
  {
   "cell_type": "code",
   "execution_count": 8,
   "metadata": {
    "collapsed": false
   },
   "outputs": [
    {
     "data": {
      "text/plain": [
       "<module 'tfkit' from '../../tfkit/__init__.py'>"
      ]
     },
     "execution_count": 8,
     "metadata": {},
     "output_type": "execute_result"
    }
   ],
   "source": [
    "# 载入我的自定义库 @qhduan\n",
    "import sys\n",
    "import importlib\n",
    "sys.path.insert(0, '../../')\n",
    "import tfkit\n",
    "importlib.reload(tfkit)"
   ]
  },
  {
   "cell_type": "code",
   "execution_count": 9,
   "metadata": {
    "collapsed": false
   },
   "outputs": [
    {
     "name": "stdout",
     "output_type": "stream",
     "text": [
      "target_size is 2\n"
     ]
    }
   ],
   "source": [
    "# 学习率\n",
    "learning_rate = 0.003\n",
    "# 迭代次数（批次）\n",
    "n_epoch = 10\n",
    "# 批次大小\n",
    "# 可能需要调小\n",
    "batch_size = 32\n",
    "# 输出大小\n",
    "target_size = y_train.shape[1]\n",
    "print('target_size is', target_size)"
   ]
  },
  {
   "cell_type": "code",
   "execution_count": 10,
   "metadata": {
    "collapsed": true
   },
   "outputs": [],
   "source": [
    "tf.set_random_seed(0)"
   ]
  },
  {
   "cell_type": "code",
   "execution_count": 11,
   "metadata": {
    "collapsed": true
   },
   "outputs": [],
   "source": [
    "# 输入占位符\n",
    "X = tf.placeholder(tf.float32, [batch_size, width, height, channel])\n",
    "# 输出占位符\n",
    "y = tf.placeholder(tf.float32, [batch_size, target_size])"
   ]
  },
  {
   "cell_type": "code",
   "execution_count": 12,
   "metadata": {
    "collapsed": false
   },
   "outputs": [
    {
     "name": "stdout",
     "output_type": "stream",
     "text": [
      "===> (32, 62, 62, 64) \t conv_1\n",
      "===> (32, 31, 31, 64) \t max_pool_1\n",
      "===> (32, 14, 14, 128) \t conv_2\n",
      "===> (32, 7, 7, 128) \t max_pool_2\n",
      "===> (32, 5, 5, 256) \t conv_3\n",
      "===> (32, 2, 2, 256) \t max_pool_3\n",
      "===> (32, 1024) \t flatten\n",
      "===> (32, 1024) \t fc_1\n",
      "===> (32, 2) \t fc_2\n"
     ]
    }
   ],
   "source": [
    "model = X\n",
    "model = tfkit.conv(model, 64, (5, 5), 'conv_1', strides=(1, 2, 2, 1), activation='relu')\n",
    "model = tfkit.max_pool(model, 'max_pool_1')\n",
    "model = tfkit.conv(model, 128, (5, 5), 'conv_2', strides=(1, 2, 2, 1), activation='relu')\n",
    "model = tfkit.max_pool(model, 'max_pool_2')\n",
    "model = tfkit.conv(model, 256, (3, 3), 'conv_3', activation='relu')\n",
    "model = tfkit.max_pool(model, 'max_pool_3')\n",
    "model = tfkit.flatten(model, 'flatten')\n",
    "model = tfkit.full_connect(model, 1024, 'fc_1', activation='relu')\n",
    "model = tfkit.full_connect(model, target_size, 'fc_2', activation='linear')"
   ]
  },
  {
   "cell_type": "code",
   "execution_count": 13,
   "metadata": {
    "collapsed": true
   },
   "outputs": [],
   "source": [
    "train_step, cost = tfkit.train_softmax(\n",
    "    model, y,\n",
    "    opt=tf.train.AdadeltaOptimizer(learning_rate=learning_rate)\n",
    ")"
   ]
  },
  {
   "cell_type": "code",
   "execution_count": 14,
   "metadata": {
    "collapsed": false,
    "scrolled": false
   },
   "outputs": [],
   "source": [
    "measures = [\n",
    "    cost,\n",
    "    tfkit.accuracy(model, y, softmax=True),\n",
    "]"
   ]
  },
  {
   "cell_type": "code",
   "execution_count": 15,
   "metadata": {
    "collapsed": false
   },
   "outputs": [],
   "source": [
    "init = tf.global_variables_initializer()"
   ]
  },
  {
   "cell_type": "code",
   "execution_count": 16,
   "metadata": {
    "collapsed": false,
    "scrolled": false
   },
   "outputs": [
    {
     "name": "stdout",
     "output_type": "stream",
     "text": [
      "epoch: 0\n",
      "100%|██████████| 625/625 [00:16<00:00, 37.03it/s]\n",
      "train: loss: 1.3212, acc: 0.7492\n",
      "test: loss: 0.6072, acc: 0.6744\n",
      "epoch: 1\n",
      "100%|██████████| 625/625 [00:16<00:00, 37.32it/s]\n",
      "train: loss: 0.4352, acc: 0.8164\n",
      "test: loss: 0.5861, acc: 0.6953\n",
      "epoch: 2\n",
      "100%|██████████| 625/625 [00:16<00:00, 38.24it/s]\n",
      "train: loss: 0.3924, acc: 0.8450\n",
      "test: loss: 0.5722, acc: 0.7108\n",
      "epoch: 3\n",
      "100%|██████████| 625/625 [00:16<00:00, 38.35it/s]\n",
      "train: loss: 0.3524, acc: 0.8663\n",
      "test: loss: 0.5657, acc: 0.7168\n",
      "epoch: 4\n",
      "100%|██████████| 625/625 [00:16<00:00, 38.10it/s]\n",
      "train: loss: 0.3141, acc: 0.8892\n",
      "test: loss: 0.5655, acc: 0.7217\n",
      "epoch: 5\n",
      "100%|██████████| 625/625 [00:16<00:00, 38.54it/s]\n",
      "train: loss: 0.2776, acc: 0.9089\n",
      "test: loss: 0.5673, acc: 0.7221\n",
      "epoch: 6\n",
      "100%|██████████| 625/625 [00:16<00:00, 37.71it/s]\n",
      "train: loss: 0.2420, acc: 0.9263\n",
      "test: loss: 0.5757, acc: 0.7229\n",
      "epoch: 7\n",
      "100%|██████████| 625/625 [00:16<00:00, 37.75it/s]\n",
      "train: loss: 0.2090, acc: 0.9417\n",
      "test: loss: 0.5866, acc: 0.7251\n",
      "epoch: 8\n",
      "100%|██████████| 625/625 [00:16<00:00, 38.61it/s]\n",
      "train: loss: 0.1786, acc: 0.9546\n",
      "test: loss: 0.6025, acc: 0.7239\n",
      "epoch: 9\n",
      "100%|██████████| 625/625 [00:16<00:00, 38.38it/s]\n",
      "train: loss: 0.1518, acc: 0.9657\n",
      "test: loss: 0.6189, acc: 0.7243\n"
     ]
    }
   ],
   "source": [
    "with tf.Session() as sess:\n",
    "    sess.run(init)\n",
    "    total = int((len(X_train) - 1) / batch_size + 1)\n",
    "    for epoch in range(n_epoch):\n",
    "        print('epoch: {}'.format(epoch))\n",
    "        record = []\n",
    "        for batch_x, batch_y in tqdm(tfkit.batch_flow(X_train, y_train, batch_size), total=total, file=sys.stdout):\n",
    "            sess.run([train_step], feed_dict={X: batch_x, y: batch_y})\n",
    "            record.append(sess.run(measures, feed_dict={X: batch_x, y: batch_y}))\n",
    "        print('train: loss: {:.4f}, acc: {:.4f}'.format(\n",
    "            np.mean([x[0] for x in record]),\n",
    "            np.mean([x[1] for x in record])\n",
    "        ))\n",
    "        record = []\n",
    "        for batch_x, batch_y in tfkit.batch_flow(X_test, y_test, batch_size):\n",
    "            record.append(sess.run(measures, feed_dict={X: batch_x, y: batch_y}))\n",
    "        print('test: loss: {:.4f}, acc: {:.4f}'.format(\n",
    "            np.mean([x[0] for x in record]),\n",
    "            np.mean([x[1] for x in record])\n",
    "        ))"
   ]
  },
  {
   "cell_type": "code",
   "execution_count": null,
   "metadata": {
    "collapsed": true
   },
   "outputs": [],
   "source": []
  }
 ],
 "metadata": {
  "kernelspec": {
   "display_name": "Python 3",
   "language": "python",
   "name": "python3"
  },
  "language_info": {
   "codemirror_mode": {
    "name": "ipython",
    "version": 3
   },
   "file_extension": ".py",
   "mimetype": "text/x-python",
   "name": "python",
   "nbconvert_exporter": "python",
   "pygments_lexer": "ipython3",
   "version": "3.5.2"
  }
 },
 "nbformat": 4,
 "nbformat_minor": 0
}
