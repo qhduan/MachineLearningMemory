{
 "cells": [
  {
   "cell_type": "markdown",
   "metadata": {},
   "source": [
    "# Tensorflow\n",
    "\n",
    "### author qhduan@memect.co"
   ]
  },
  {
   "cell_type": "code",
   "execution_count": 1,
   "metadata": {
    "collapsed": true
   },
   "outputs": [],
   "source": [
    "import numpy as np\n",
    "import tensorflow as tf\n",
    "from tqdm import tqdm\n",
    "from sklearn.preprocessing import LabelEncoder\n",
    "from sklearn.preprocessing import OneHotEncoder"
   ]
  },
  {
   "cell_type": "code",
   "execution_count": 2,
   "metadata": {
    "collapsed": false
   },
   "outputs": [
    {
     "name": "stdout",
     "output_type": "stream",
     "text": [
      "训练集样本量：12126，测试集样本量：3032\n"
     ]
    }
   ],
   "source": [
    "from data import X_train, X_test, y_train, y_test"
   ]
  },
  {
   "cell_type": "code",
   "execution_count": 3,
   "metadata": {
    "collapsed": true
   },
   "outputs": [],
   "source": [
    "tf.set_random_seed(0)"
   ]
  },
  {
   "cell_type": "code",
   "execution_count": 4,
   "metadata": {
    "collapsed": false
   },
   "outputs": [
    {
     "name": "stdout",
     "output_type": "stream",
     "text": [
      "单个训练样本最大长度：14\n"
     ]
    }
   ],
   "source": [
    "embedding_size = 128\n",
    "PAD = ' ' # 句子不到max_len长度时的占位符\n",
    "max_len = max(len(x) for x in X_train)\n",
    "print('单个训练样本最大长度：{}'.format(max_len))"
   ]
  },
  {
   "cell_type": "code",
   "execution_count": 5,
   "metadata": {
    "collapsed": false
   },
   "outputs": [
    {
     "data": {
      "text/plain": [
       "<module 'tfkit' from '../../tfkit/__init__.py'>"
      ]
     },
     "execution_count": 5,
     "metadata": {},
     "output_type": "execute_result"
    }
   ],
   "source": [
    "# 载入我的自定义库 @qhduan\n",
    "import sys\n",
    "import importlib\n",
    "sys.path.insert(0, '../../')\n",
    "import tfkit\n",
    "importlib.reload(tfkit)"
   ]
  },
  {
   "cell_type": "code",
   "execution_count": 6,
   "metadata": {
    "collapsed": false
   },
   "outputs": [],
   "source": [
    "wl = tfkit.WordLabel()\n",
    "X_train_vec = wl.fit_transform(X_train, max_len=max_len)\n",
    "X_test_vec = wl.transform(X_test, max_len=max_len)"
   ]
  },
  {
   "cell_type": "code",
   "execution_count": 7,
   "metadata": {
    "collapsed": false
   },
   "outputs": [
    {
     "name": "stdout",
     "output_type": "stream",
     "text": [
      "4235 (12126, 14) (3032, 14)\n"
     ]
    }
   ],
   "source": [
    "print(wl.max_features, X_train_vec.shape, X_test_vec.shape)"
   ]
  },
  {
   "cell_type": "code",
   "execution_count": 8,
   "metadata": {
    "collapsed": false
   },
   "outputs": [],
   "source": [
    "oh = OneHotEncoder(sparse=False)\n",
    "y_train = oh.fit_transform(y_train.reshape([-1, 1]))\n",
    "y_test = oh.transform(y_test.reshape([-1, 1]))"
   ]
  },
  {
   "cell_type": "code",
   "execution_count": 9,
   "metadata": {
    "collapsed": false
   },
   "outputs": [
    {
     "name": "stdout",
     "output_type": "stream",
     "text": [
      "time_steps 14\n",
      "input_size 128\n",
      "target_size 2\n"
     ]
    }
   ],
   "source": [
    "learning_rate = 0.003\n",
    "n_epoch = 10\n",
    "batch_size = 128\n",
    "time_steps = max_len\n",
    "input_size = embedding_size\n",
    "target_size = 2\n",
    "print('time_steps', time_steps)\n",
    "print('input_size', input_size)\n",
    "print('target_size', target_size)"
   ]
  },
  {
   "cell_type": "code",
   "execution_count": 10,
   "metadata": {
    "collapsed": true
   },
   "outputs": [],
   "source": [
    "X = tf.placeholder(tf.float32, [batch_size, max_len], name='X')\n",
    "y = tf.placeholder(tf.float32, [batch_size, target_size], name='X')"
   ]
  },
  {
   "cell_type": "code",
   "execution_count": 11,
   "metadata": {
    "collapsed": false
   },
   "outputs": [
    {
     "name": "stdout",
     "output_type": "stream",
     "text": [
      "===> (128, 14, 128) \t embedding\n",
      "===> (128, 1, 128, 512) \t conv_1\n",
      "===> (128, 1, 128, 512) \t conv_1_gate\n",
      "===> (128, 65536) \t flatten\n",
      "===> (128, 2) \t fc_2\n"
     ]
    }
   ],
   "source": [
    "model = X\n",
    "model = tfkit.embedding(model, wl.max_features, embedding_size, max_len, name='embedding')\n",
    "model = tf.reshape(model, [batch_size, max_len, embedding_size, 1])\n",
    "cnn = tfkit.conv(model, 512, (14, 1), name='conv_1', activation='linear')\n",
    "gate = tfkit.conv(model, 512, (14, 1), name='conv_1_gate', activation='sigmoid')\n",
    "model = cnn * gate\n",
    "model = tfkit.flatten(model, 'flatten')\n",
    "model = tfkit.full_connect(model, target_size, name='fc_2', activation='linear')"
   ]
  },
  {
   "cell_type": "code",
   "execution_count": 12,
   "metadata": {
    "collapsed": false
   },
   "outputs": [],
   "source": [
    "train_step, cost = tfkit.train_softmax(\n",
    "    model, y,\n",
    "    opt=tf.train.AdadeltaOptimizer(learning_rate=learning_rate)\n",
    ")"
   ]
  },
  {
   "cell_type": "code",
   "execution_count": 13,
   "metadata": {
    "collapsed": true
   },
   "outputs": [],
   "source": [
    "measures = [\n",
    "    cost,\n",
    "    tfkit.accuracy(model, y, softmax=True),\n",
    "]"
   ]
  },
  {
   "cell_type": "code",
   "execution_count": 14,
   "metadata": {
    "collapsed": false
   },
   "outputs": [],
   "source": [
    "# 初始化所有变量\n",
    "init = tf.global_variables_initializer()"
   ]
  },
  {
   "cell_type": "code",
   "execution_count": 15,
   "metadata": {
    "collapsed": false
   },
   "outputs": [],
   "source": [
    "# 本来是要关，不过CNN不用GPU真的好慢……\n",
    "# disable GPU，关闭GPU支持\n",
    "config = tf.ConfigProto(\n",
    "#     device_count = {'GPU': 0}\n",
    ")"
   ]
  },
  {
   "cell_type": "code",
   "execution_count": 16,
   "metadata": {
    "collapsed": false,
    "scrolled": false
   },
   "outputs": [
    {
     "name": "stdout",
     "output_type": "stream",
     "text": [
      "epoch: 0\n",
      "100%|██████████| 95/95 [00:02<00:00, 38.87it/s]\n",
      "train: loss: 0.6796, acc: 0.5724\n",
      "test: loss: 0.6723, acc: 0.5911\n",
      "epoch: 1\n",
      "100%|██████████| 95/95 [00:02<00:00, 39.33it/s]\n",
      "train: loss: 0.6692, acc: 0.5861\n",
      "test: loss: 0.6679, acc: 0.5999\n",
      "epoch: 2\n",
      "100%|██████████| 95/95 [00:02<00:00, 38.27it/s]\n",
      "train: loss: 0.6619, acc: 0.5939\n",
      "test: loss: 0.6638, acc: 0.6074\n",
      "epoch: 3\n",
      "100%|██████████| 95/95 [00:02<00:00, 39.06it/s]\n",
      "train: loss: 0.6551, acc: 0.6040\n",
      "test: loss: 0.6602, acc: 0.6120\n",
      "epoch: 4\n",
      "100%|██████████| 95/95 [00:02<00:00, 38.88it/s]\n",
      "train: loss: 0.6489, acc: 0.6143\n",
      "test: loss: 0.6568, acc: 0.6234\n",
      "epoch: 5\n",
      "100%|██████████| 95/95 [00:02<00:00, 38.96it/s]\n",
      "train: loss: 0.6430, acc: 0.6254\n",
      "test: loss: 0.6538, acc: 0.6283\n",
      "epoch: 6\n",
      "100%|██████████| 95/95 [00:02<00:00, 39.40it/s]\n",
      "train: loss: 0.6376, acc: 0.6377\n",
      "test: loss: 0.6511, acc: 0.6377\n",
      "epoch: 7\n",
      "100%|██████████| 95/95 [00:02<00:00, 39.44it/s]\n",
      "train: loss: 0.6325, acc: 0.6481\n",
      "test: loss: 0.6486, acc: 0.6423\n",
      "epoch: 8\n",
      "100%|██████████| 95/95 [00:02<00:00, 38.42it/s]\n",
      "train: loss: 0.6278, acc: 0.6577\n",
      "test: loss: 0.6463, acc: 0.6436\n",
      "epoch: 9\n",
      "100%|██████████| 95/95 [00:02<00:00, 39.06it/s]\n",
      "train: loss: 0.6233, acc: 0.6651\n",
      "test: loss: 0.6442, acc: 0.6478\n"
     ]
    }
   ],
   "source": [
    "with tf.Session(config=config) as sess:\n",
    "    sess.run(init)\n",
    "    total = int((len(X_train) - 1) / batch_size + 1)\n",
    "    for epoch in range(n_epoch):\n",
    "        print('epoch: {}'.format(epoch))\n",
    "        record = []\n",
    "        for X_sample, y_sample in tqdm(tfkit.batch_flow(X_train_vec, y_train, batch_size), total=total, file=sys.stdout):\n",
    "            feeds = {X: X_sample, y: y_sample}\n",
    "            sess.run(train_step, feeds)\n",
    "            record.append(sess.run(measures, feeds))\n",
    "        print('train: loss: {:.4f}, acc: {:.4f}'.format(\n",
    "            np.mean([x[0] for x in record]),\n",
    "            np.mean([x[1] for x in record])\n",
    "        ))\n",
    "        record = []\n",
    "        for X_sample, y_sample in tfkit.batch_flow(X_test_vec, y_test, batch_size):\n",
    "            feeds = {X: X_sample, y: y_sample}\n",
    "            record.append(sess.run(measures, feeds))\n",
    "        print('test: loss: {:.4f}, acc: {:.4f}'.format(\n",
    "            np.mean([x[0] for x in record]),\n",
    "            np.mean([x[1] for x in record])\n",
    "        ))"
   ]
  },
  {
   "cell_type": "code",
   "execution_count": null,
   "metadata": {
    "collapsed": true
   },
   "outputs": [],
   "source": []
  }
 ],
 "metadata": {
  "kernelspec": {
   "display_name": "Python 3",
   "language": "python",
   "name": "python3"
  },
  "language_info": {
   "codemirror_mode": {
    "name": "ipython",
    "version": 3
   },
   "file_extension": ".py",
   "mimetype": "text/x-python",
   "name": "python",
   "nbconvert_exporter": "python",
   "pygments_lexer": "ipython3",
   "version": "3.5.2"
  }
 },
 "nbformat": 4,
 "nbformat_minor": 0
}
